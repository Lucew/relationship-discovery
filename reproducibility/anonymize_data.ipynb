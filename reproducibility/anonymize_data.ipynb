{
 "cells": [
  {
   "cell_type": "code",
   "id": "initial_id",
   "metadata": {
    "collapsed": true,
    "ExecuteTime": {
     "end_time": "2025-01-09T13:06:44.409907Z",
     "start_time": "2025-01-09T13:06:44.392229Z"
    }
   },
   "source": [
    "import pandas as pd\n",
    "from glob import glob\n",
    "import os"
   ],
   "outputs": [],
   "execution_count": 26
  },
  {
   "metadata": {
    "ExecuteTime": {
     "end_time": "2025-01-09T13:07:07.740614Z",
     "start_time": "2025-01-09T13:07:07.720645Z"
    }
   },
   "cell_type": "code",
   "source": [
    "def anonymize_dataset(result_path: str):\n",
    "    # get the dataset from the result folder and make sure there is only one\n",
    "    dataset_path = glob(os.path.join(result_path, '*.parquet'))\n",
    "    assert len(dataset_path) == 1, f'There is none/more than one dataset in the result path: {dataset_path}.'\n",
    "    dataset_path = dataset_path.pop()\n",
    "    dataset = pd.read_parquet(dataset_path)\n",
    "    print(f'We have {dataset.shape[1]} signals with {dataset.shape[0]} samples per signal.')\n",
    "    \n",
    "    # get the sensor names and anonymize them by using index\n",
    "    names = [f\"{name.split('_', 1)[0]}_{idx}\" for idx, name in enumerate(dataset.columns)]\n",
    "    \n",
    "    # clear the dataframe from the signal data and replace the column names\n",
    "    dataset = dataset.iloc[:0]\n",
    "    dataset.columns = names\n",
    "    \n",
    "    # write the dataframe \n",
    "    dataset.to_parquet(dataset_path)"
   ],
   "id": "e66bbabb53038d1f",
   "outputs": [],
   "execution_count": 29
  },
  {
   "metadata": {
    "ExecuteTime": {
     "end_time": "2025-01-09T13:07:19.215023Z",
     "start_time": "2025-01-09T13:07:18.900171Z"
    }
   },
   "cell_type": "code",
   "source": [
    "# go over all private datasets\n",
    "for path in ['spi_plant1', 'spi_plant2', 'spi_plant3', 'spi_plant4', 'spi_rotary']:\n",
    "    anonymize_dataset(os.path.join(r\"..\\measurements\\all_spis\", path))"
   ],
   "id": "1e430b3227418882",
   "outputs": [
    {
     "name": "stdout",
     "output_type": "stream",
     "text": [
      "We have 407 signals with 0 samples per signal.\n",
      "We have 407 signals with 0 samples per signal.\n",
      "We have 405 signals with 0 samples per signal.\n",
      "We have 407 signals with 0 samples per signal.\n",
      "We have 42 signals with 0 samples per signal.\n"
     ]
    }
   ],
   "execution_count": 31
  },
  {
   "metadata": {},
   "cell_type": "code",
   "outputs": [],
   "execution_count": null,
   "source": "",
   "id": "58c0d122fa73fb4b"
  }
 ],
 "metadata": {
  "kernelspec": {
   "display_name": "Python 3",
   "language": "python",
   "name": "python3"
  },
  "language_info": {
   "codemirror_mode": {
    "name": "ipython",
    "version": 2
   },
   "file_extension": ".py",
   "mimetype": "text/x-python",
   "name": "python",
   "nbconvert_exporter": "python",
   "pygments_lexer": "ipython2",
   "version": "2.7.6"
  }
 },
 "nbformat": 4,
 "nbformat_minor": 5
}
